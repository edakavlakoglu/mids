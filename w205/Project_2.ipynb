{
 "cells": [
  {
   "cell_type": "markdown",
   "metadata": {
    "collapsed": true
   },
   "source": [
    "# Executive Summary"
   ]
  },
  {
   "cell_type": "markdown",
   "metadata": {},
   "source": [
    "The purpose of this project is to prepare the infrastructure for a service that delivers assessments. This involves the following tasks:\n",
    "- publishing and consuming messages with Kafka \n",
    "- using Spark to transform messages \n",
    "- landing messages within HDFS\n",
    "\n",
    "The file, \"assessment-attempts-20180128-121051-nested.json\", is provided and upon exploration, the data shows the following issues:\n",
    " - binary values \n",
    " - a nested array (i.e. nested lists and nested dictionaries)\n",
    "\n",
    "We seek to answer the following business questions: \n",
    "1. How many assessments are in the dataset?\n",
    "2. What is the least common course taken? And the most common?\n",
    "3. What is the average assessment score for the top 5 most popular courses?\n",
    "\n",
    "We cast the raw assessments data as a string to address the binary values, and then we unroll the JSON file to answer the third business question above. After we completed these transformations, we were able to answer the above business questions: \n",
    "\n",
    "1. 3242 assessments are in the dataset\n",
    "\n",
    "2. Native Web Apps for Android, Learning to Visualize Data with D3.js, Nulls, Three-valued Logic and Missing Information, and Operating Red Hat Enterprise Linux Servers are the least popular courses, with only one single assessment for each course. Learning Git is the most popular course with 390 assessments from distinct users.  \n",
    "\n",
    "3. The top 5 most popular courses had the following average assessment scores: \n",
    "     - Learning Git: 67.6142131979696 \n",
    "     - Introduction to Python: 56.66666666666664\n",
    "     - Introduction to Java 8: 87.59493670886073\n",
    "     - Intermediate Python Programming: 51.26582278481012\n",
    "     - Learning to Program with R: 54.46428571428569\n",
    "\n",
    "Finally, all dataframes were published to HDFS. "
   ]
  },
  {
   "cell_type": "markdown",
   "metadata": {},
   "source": [
    "## Part 1: Linux Commands - Setup \n",
    "\n",
    "### The following commands are executed once:\n",
    "\n",
    "##### set up project directory and branches\n\n",
    "ls \n\n",
    
    "cd w205\n\n",
    
    "git clone https://github.com/mids-w205-martin-mims/project-2-edakavlakoglu.git\n\n",
    
    "cd project-2-edakavlakoglu\n\n",
    
    "git branch assignment\n\n",
    
    "git checkout assignment\n\n",
    "\n",
    "##### copy yml file in project directory \n\n",
    "\n",
    "cp ~/w205/course-content/08-Querying-Data/docker-compose.yml .\n\n",
    "\n",
    "##### modify yml file for juptyer notebook then check modifications\n",
    "\n",
    "cat docker-compose.yml\n\n",
    "\n",
    "##### download assessments file\n\n",
    "\n",
    "curl -L -o assessment-attempts-20180128-121051-nested.json https://goo.gl/ME6hjp\n"
   ]
  },
  {
   "cell_type": "markdown",
   "metadata": {},
   "source": [
    "### The following commands are executed every time I start a cluster:\n",
    "\n",
    "##### check for old containers \n",
    "\n",
    "docker ps -a \n",
    "\n",
    "##### start up cluster \n",
    "\n",
    "docker-compose up -d\n",
    "docker-compose ps\n",
    "\n",
    "##### execute a bash shell in spark container\n",
    "docker-compose exec spark bash\n",
    "\n",
    "##### create symbolic link in spark container \n",
    "ln -s /w205 w205\n",
    "\n",
    "##### exit container \n",
    "exit \n",
    "\n",
    "##### run a jupyter notebook with pyspark kernel \n",
    "\n",
    "docker-compose exec spark env PYSPARK_DRIVER_PYTHON=jupyter PYSPARK_DRIVER_PYTHON_OPTS='notebook --no-browser --port 8888 --ip 0.0.0.0 --allow-root' pyspark\n",
    "\n",
    "##### check jupyter notebook exists \n",
    " \n",
    " ls\n",
    "\n",
    "##### create topic assessments \n",
    "\n",
    " docker-compose exec kafka \\\n",
    "  kafka-topics \\\n",
    "    --create \\\n",
    "    --topic assessments \\\n",
    "    --partitions 1 \\\n",
    "    --replication-factor 1 \\\n",
    "    --if-not-exists \\\n",
    "    --zookeeper zookeeper:32181\n",
    "\n",
    "##### publish assessments to kafka\n",
    "\n",
    "docker-compose exec mids bash -c \"cat /w205/project-2-edakavlakoglu/assessment-attempts-20180128-121051-nested.json | jq '.[]' -c | kafkacat -P -b kafka:29092 -t assessments\"\n",
    "\n",
    "##### check assessments published to kafka \n",
    "\n",
    "docker-compose exec mids bash -c \"kafkacat -C -b kafka:29092 -t assessments -o beginning -e\"\n"
   ]
  },
  {
   "cell_type": "markdown",
   "metadata": {},
   "source": [
    "## Part 2: Exploring JSON file via JQ and Spark SQL"
   ]
  },
  {
   "cell_type": "code",
   "execution_count": 282,
   "metadata": {
    "collapsed": true
   },
   "outputs": [],
   "source": [
    "import json\n",
    "import pprint\n",
    "from pyspark.sql import Row "
   ]
  },
  {
   "cell_type": "code",
   "execution_count": 283,
   "metadata": {},
   "outputs": [
    {
     "data": {
      "text/html": [
       "\n",
       "            <div>\n",
       "                <p><b>SparkSession - hive</b></p>\n",
       "                \n",
       "        <div>\n",
       "            <p><b>SparkContext</b></p>\n",
       "\n",
       "            <p><a href=\"http://172.20.0.6:4040\">Spark UI</a></p>\n",
       "\n",
       "            <dl>\n",
       "              <dt>Version</dt>\n",
       "                <dd><code>v2.2.0</code></dd>\n",
       "              <dt>Master</dt>\n",
       "                <dd><code>local[*]</code></dd>\n",
       "              <dt>AppName</dt>\n",
       "                <dd><code>PySparkShell</code></dd>\n",
       "            </dl>\n",
       "        </div>\n",
       "        \n",
       "            </div>\n",
       "        "
      ],
      "text/plain": [
       "<pyspark.sql.session.SparkSession at 0x7f1be15a44e0>"
      ]
     },
     "execution_count": 283,
     "metadata": {},
     "output_type": "execute_result"
    }
   ],
   "source": [
    "#check if spark object is there \n",
    "spark"
   ]
  },
  {
   "cell_type": "code",
   "execution_count": 284,
   "metadata": {},
   "outputs": [
    {
     "data": {
      "text/html": [
       "\n",
       "        <div>\n",
       "            <p><b>SparkContext</b></p>\n",
       "\n",
       "            <p><a href=\"http://172.20.0.6:4040\">Spark UI</a></p>\n",
       "\n",
       "            <dl>\n",
       "              <dt>Version</dt>\n",
       "                <dd><code>v2.2.0</code></dd>\n",
       "              <dt>Master</dt>\n",
       "                <dd><code>local[*]</code></dd>\n",
       "              <dt>AppName</dt>\n",
       "                <dd><code>PySparkShell</code></dd>\n",
       "            </dl>\n",
       "        </div>\n",
       "        "
      ],
      "text/plain": [
       "<SparkContext master=local[*] appName=PySparkShell>"
      ]
     },
     "execution_count": 284,
     "metadata": {},
     "output_type": "execute_result"
    }
   ],
   "source": [
    "# check if sc is there\n",
    "sc"
   ]
  },
  {
   "cell_type": "code",
   "execution_count": 285,
   "metadata": {
    "collapsed": true
   },
   "outputs": [],
   "source": [
    "#read assessments from kafka\n",
    "\n",
    "raw_assessments = spark \\\n",
    "  .read \\\n",
    "  .format(\"kafka\") \\\n",
    "  .option(\"kafka.bootstrap.servers\", \"kafka:29092\") \\\n",
    "  .option(\"subscribe\",\"assessments\") \\\n",
    "  .option(\"startingOffsets\", \"earliest\") \\\n",
    "  .option(\"endingOffsets\", \"latest\") \\\n",
    "  .load() "
   ]
  },
  {
   "cell_type": "code",
   "execution_count": 286,
   "metadata": {},
   "outputs": [
    {
     "data": {
      "text/plain": [
       "DataFrame[key: binary, value: binary, topic: string, partition: int, offset: bigint, timestamp: timestamp, timestampType: int]"
      ]
     },
     "execution_count": 286,
     "metadata": {},
     "output_type": "execute_result"
    }
   ],
   "source": [
    "#cache to cut back on warnings \n",
    "raw_assessments.cache()"
   ]
  },
  {
   "cell_type": "code",
   "execution_count": 287,
   "metadata": {},
   "outputs": [
    {
     "name": "stdout",
     "output_type": "stream",
     "text": [
      "root\n",
      " |-- key: binary (nullable = true)\n",
      " |-- value: binary (nullable = true)\n",
      " |-- topic: string (nullable = true)\n",
      " |-- partition: integer (nullable = true)\n",
      " |-- offset: long (nullable = true)\n",
      " |-- timestamp: timestamp (nullable = true)\n",
      " |-- timestampType: integer (nullable = true)\n",
      "\n"
     ]
    }
   ],
   "source": [
    "#print schema\n",
    "raw_assessments.printSchema()\n",
    "\n",
    "#note: value is in binary format"
   ]
  },
  {
   "cell_type": "code",
   "execution_count": 288,
   "metadata": {},
   "outputs": [
    {
     "name": "stdout",
     "output_type": "stream",
     "text": [
      "+----+--------------------+-----------+---------+------+--------------------+-------------+\n",
      "| key|               value|      topic|partition|offset|           timestamp|timestampType|\n",
      "+----+--------------------+-----------+---------+------+--------------------+-------------+\n",
      "|null|[7B 22 6B 65 65 6...|assessments|        0|     0|1969-12-31 23:59:...|            0|\n",
      "|null|[7B 22 6B 65 65 6...|assessments|        0|     1|1969-12-31 23:59:...|            0|\n",
      "|null|[7B 22 6B 65 65 6...|assessments|        0|     2|1969-12-31 23:59:...|            0|\n",
      "|null|[7B 22 6B 65 65 6...|assessments|        0|     3|1969-12-31 23:59:...|            0|\n",
      "|null|[7B 22 6B 65 65 6...|assessments|        0|     4|1969-12-31 23:59:...|            0|\n",
      "+----+--------------------+-----------+---------+------+--------------------+-------------+\n",
      "only showing top 5 rows\n",
      "\n"
     ]
    }
   ],
   "source": [
    "#show raw assessments data\n",
    "raw_assessments.show(5)"
   ]
  },
  {
   "cell_type": "code",
   "execution_count": 289,
   "metadata": {},
   "outputs": [
    {
     "ename": "IndentationError",
     "evalue": "unexpected indent (<ipython-input-289-8363a431a3a1>, line 2)",
     "output_type": "error",
     "traceback": [
      "\u001b[0;36m  File \u001b[0;32m\"<ipython-input-289-8363a431a3a1>\"\u001b[0;36m, line \u001b[0;32m2\u001b[0m\n\u001b[0;31m    assessments = raw_assessments.select(raw_assessments.value.cast('string'))\u001b[0m\n\u001b[0m    ^\u001b[0m\n\u001b[0;31mIndentationError\u001b[0m\u001b[0;31m:\u001b[0m unexpected indent\n"
     ]
    }
   ],
   "source": [
    "#Convert the `value` as string\n",
    "    assessments = raw_assessments.select(raw_assessments.value.cast('string'))"
   ]
  },
  {
   "cell_type": "code",
   "execution_count": null,
   "metadata": {},
   "outputs": [],
   "source": [
    "#check that data is no longer in binary format\n",
    "assessments.show(5)"
   ]
  },
  {
   "cell_type": "code",
   "execution_count": null,
   "metadata": {},
   "outputs": [],
   "source": [
    "extracted_assessments = assessments.rdd.map(lambda x: json.loads(x.value)).toDF()"
   ]
  },
  {
   "cell_type": "code",
   "execution_count": null,
   "metadata": {},
   "outputs": [],
   "source": [
    "#print schema\n",
    "extracted_assessments.printSchema()"
   ]
  },
  {
   "cell_type": "code",
   "execution_count": null,
   "metadata": {},
   "outputs": [],
   "source": [
    "#didn't run, but can use pretty print instead to examine nested data\n",
    "cat assessment-attempts-20180128-121051-nested.json | jq '.[]' -c | head -1 | jq ."
   ]
  },
  {
   "cell_type": "code",
   "execution_count": 290,
   "metadata": {},
   "outputs": [
    {
     "name": "stdout",
     "output_type": "stream",
     "text": [
      "{\n",
      " \"keen_timestamp\": \"1516717442.735266\",\n",
      " \"max_attempts\": \"1.0\",\n",
      " \"started_at\": \"2018-01-23T14:23:19.082Z\",\n",
      " \"base_exam_id\": \"37f0a30a-7464-11e6-aa92-a8667f27e5dc\",\n",
      " \"user_exam_id\": \"6d4089e4-bde5-4a22-b65f-18bce9ab79c8\",\n",
      " \"sequences\": {\n",
      "  \"questions\": [\n",
      "   {\n",
      "    \"user_incomplete\": true,\n",
      "    \"user_correct\": false,\n",
      "    \"options\": [\n",
      "     {\n",
      "      \"checked\": true,\n",
      "      \"at\": \"2018-01-23T14:23:24.670Z\",\n",
      "      \"id\": \"49c574b4-5c82-4ffd-9bd1-c3358faf850d\",\n",
      "      \"submitted\": 1,\n",
      "      \"correct\": true\n",
      "     },\n",
      "     {\n",
      "      \"checked\": true,\n",
      "      \"at\": \"2018-01-23T14:23:25.914Z\",\n",
      "      \"id\": \"f2528210-35c3-4320-acf3-9056567ea19f\",\n",
      "      \"submitted\": 1,\n",
      "      \"correct\": true\n",
      "     },\n",
      "     {\n",
      "      \"checked\": false,\n",
      "      \"correct\": true,\n",
      "      \"id\": \"d1bf026f-554f-4543-bdd2-54dcf105b826\"\n",
      "     }\n",
      "    ],\n",
      "    \"user_submitted\": true,\n",
      "    \"id\": \"7a2ed6d3-f492-49b3-b8aa-d080a8aad986\",\n",
      "    \"user_result\": \"missed_some\"\n",
      "   },\n",
      "   {\n",
      "    \"user_incomplete\": false,\n",
      "    \"user_correct\": false,\n",
      "    \"options\": [\n",
      "     {\n",
      "      \"checked\": true,\n",
      "      \"at\": \"2018-01-23T14:23:30.116Z\",\n",
      "      \"id\": \"a35d0e80-8c49-415d-b8cb-c21a02627e2b\",\n",
      "      \"submitted\": 1\n",
      "     },\n",
      "     {\n",
      "      \"checked\": false,\n",
      "      \"correct\": true,\n",
      "      \"id\": \"bccd6e2e-2cef-4c72-8bfa-317db0ac48bb\"\n",
      "     },\n",
      "     {\n",
      "      \"checked\": true,\n",
      "      \"at\": \"2018-01-23T14:23:41.791Z\",\n",
      "      \"id\": \"7e0b639a-2ef8-4604-b7eb-5018bd81a91b\",\n",
      "      \"submitted\": 1,\n",
      "      \"correct\": true\n",
      "     }\n",
      "    ],\n",
      "    \"user_submitted\": true,\n",
      "    \"id\": \"bbed4358-999d-4462-9596-bad5173a6ecb\",\n",
      "    \"user_result\": \"incorrect\"\n",
      "   },\n",
      "   {\n",
      "    \"user_incomplete\": false,\n",
      "    \"user_correct\": true,\n",
      "    \"options\": [\n",
      "     {\n",
      "      \"checked\": false,\n",
      "      \"at\": \"2018-01-23T14:23:52.510Z\",\n",
      "      \"id\": \"a9333679-de9d-41ff-bb3d-b239d6b95732\"\n",
      "     },\n",
      "     {\n",
      "      \"checked\": false,\n",
      "      \"id\": \"85795acc-b4b1-4510-bd6e-41648a3553c9\"\n",
      "     },\n",
      "     {\n",
      "      \"checked\": true,\n",
      "      \"at\": \"2018-01-23T14:23:54.223Z\",\n",
      "      \"id\": \"c185ecdb-48fb-4edb-ae4e-0204ac7a0909\",\n",
      "      \"submitted\": 1,\n",
      "      \"correct\": true\n",
      "     },\n",
      "     {\n",
      "      \"checked\": true,\n",
      "      \"at\": \"2018-01-23T14:23:53.862Z\",\n",
      "      \"id\": \"77a66c83-d001-45cd-9a5a-6bba8eb7389e\",\n",
      "      \"submitted\": 1,\n",
      "      \"correct\": true\n",
      "     }\n",
      "    ],\n",
      "    \"user_submitted\": true,\n",
      "    \"id\": \"e6ad8644-96b1-4617-b37b-a263dded202c\",\n",
      "    \"user_result\": \"correct\"\n",
      "   },\n",
      "   {\n",
      "    \"user_incomplete\": false,\n",
      "    \"user_correct\": true,\n",
      "    \"options\": [\n",
      "     {\n",
      "      \"checked\": false,\n",
      "      \"id\": \"59b9fc4b-f239-4850-b1f9-912d1fd3ca13\"\n",
      "     },\n",
      "     {\n",
      "      \"checked\": false,\n",
      "      \"id\": \"2c29e8e8-d4a8-406e-9cdf-de28ec5890fe\"\n",
      "     },\n",
      "     {\n",
      "      \"checked\": false,\n",
      "      \"id\": \"62feee6e-9b76-4123-bd9e-c0b35126b1f1\"\n",
      "     },\n",
      "     {\n",
      "      \"checked\": true,\n",
      "      \"at\": \"2018-01-23T14:24:00.807Z\",\n",
      "      \"id\": \"7f13df9c-fcbe-4424-914f-2206f106765c\",\n",
      "      \"submitted\": 1,\n",
      "      \"correct\": true\n",
      "     }\n",
      "    ],\n",
      "    \"user_submitted\": true,\n",
      "    \"id\": \"95194331-ac43-454e-83de-ea8913067055\",\n",
      "    \"user_result\": \"correct\"\n",
      "   }\n",
      "  ],\n",
      "  \"attempt\": 1,\n",
      "  \"id\": \"5b28a462-7a3b-42e0-b508-09f3906d1703\",\n",
      "  \"counts\": {\n",
      "   \"incomplete\": 1,\n",
      "   \"submitted\": 4,\n",
      "   \"incorrect\": 1,\n",
      "   \"all_correct\": false,\n",
      "   \"correct\": 2,\n",
      "   \"total\": 4,\n",
      "   \"unanswered\": 0\n",
      "  }\n",
      " },\n",
      " \"keen_created_at\": \"1516717442.735266\",\n",
      " \"certification\": \"false\",\n",
      " \"keen_id\": \"5a6745820eb8ab00016be1f1\",\n",
      " \"exam_name\": \"Normal Forms and All That Jazz Master Class\"\n",
      "}\n"
     ]
    }
   ],
   "source": [
    "#view json data using pretty print\n",
    "\n",
    "with open(\"assessment-attempts-20180128-121051-nested.json\",\"r\") as json_file:\n",
    "    json_data = json.load(json_file)\n",
    "\n",
    "print(json.dumps(json_data[0], indent=1))"
   ]
  },
  {
   "cell_type": "code",
   "execution_count": 291,
   "metadata": {},
   "outputs": [
    {
     "name": "stdout",
     "output_type": "stream",
     "text": [
      "+--------------------+\n",
      "|             keen_id|\n",
      "+--------------------+\n",
      "|5a6745820eb8ab000...|\n",
      "|5a674541ab6b0a000...|\n",
      "|5a67999d3ed3e3000...|\n",
      "|5a6799694fc7c7000...|\n",
      "|5a6791e824fccd000...|\n",
      "+--------------------+\n",
      "\n"
     ]
    }
   ],
   "source": [
    "#create a temp table for assessments dataframe to execute Spark SQL  \n",
    "extracted_assessments.registerTempTable('assessments')\n",
    "spark.sql(\"select keen_id from assessments limit 5\").show()"
   ]
  },
  {
   "cell_type": "markdown",
   "metadata": {},
   "source": [
    "## Part 3: Answering Business Questions Using Spark SQL "
   ]
  },
  {
   "cell_type": "markdown",
   "metadata": {},
   "source": [
    "#### 1. How many assessments are in the dataset?"
   ]
  },
  {
   "cell_type": "code",
   "execution_count": 292,
   "metadata": {},
   "outputs": [
    {
     "name": "stdout",
     "output_type": "stream",
     "text": [
      "+----------------+\n",
      "|assessment_count|\n",
      "+----------------+\n",
      "|            3242|\n",
      "+----------------+\n",
      "\n"
     ]
    }
   ],
   "source": [
    "spark.sql(\"select count(distinct keen_id) as assessment_count from assessments limit 5\").show()"
   ]
  },
  {
   "cell_type": "markdown",
   "metadata": {},
   "source": [
    "#### 2. What is the least common course taken? And the most common?"
   ]
  },
  {
   "cell_type": "code",
   "execution_count": 293,
   "metadata": {},
   "outputs": [
    {
     "name": "stdout",
     "output_type": "stream",
     "text": [
      "+-------------------------------------------------+----------------------------+\n",
      "|course                                           |count(DISTINCT user_exam_id)|\n",
      "+-------------------------------------------------+----------------------------+\n",
      "|Native Web Apps for Android                      |1                           |\n",
      "|Learning to Visualize Data with D3.js            |1                           |\n",
      "|Nulls, Three-valued Logic and Missing Information|1                           |\n",
      "|Operating Red Hat Enterprise Linux Servers       |1                           |\n",
      "|Learning Spring Programming                      |2                           |\n",
      "+-------------------------------------------------+----------------------------+\n",
      "only showing top 5 rows\n",
      "\n"
     ]
    }
   ],
   "source": [
    "#least popular courses\n",
    "spark.sql(\"select exam_name as course, count(distinct user_exam_id) from assessments group by exam_name order by 2 asc\").show(5, False)"
   ]
  },
  {
   "cell_type": "code",
   "execution_count": 294,
   "metadata": {},
   "outputs": [
    {
     "name": "stdout",
     "output_type": "stream",
     "text": [
      "+------------+----------------------------+\n",
      "|      course|count(DISTINCT user_exam_id)|\n",
      "+------------+----------------------------+\n",
      "|Learning Git|                         390|\n",
      "+------------+----------------------------+\n",
      "only showing top 1 row\n",
      "\n"
     ]
    }
   ],
   "source": [
    "#most popular course\n",
    "spark.sql(\"select exam_name as course, count(distinct user_exam_id) from assessments group by exam_name order by 2 desc\").show(1)"
   ]
  },
  {
   "cell_type": "markdown",
   "metadata": {},
   "source": [
    "#### 3. What is the average assessment score for the top 5 most popular courses?"
   ]
  },
  {
   "cell_type": "code",
   "execution_count": 295,
   "metadata": {},
   "outputs": [],
   "source": [
    "def extract_assessment_dtls_from_json(row):\n",
    "    assessments = json.loads(row.value)\n",
    "    assessment_scores = []\n",
    "    \n",
    "    if \"sequences\" in assessments.keys():\n",
    "        if \"counts\" in assessments[\"sequences\"].keys():\n",
    "            if \"correct\" in assessments[\"sequences\"][\"counts\"].keys() and \"total\" in assessments[\"sequences\"][\"counts\"].keys():\n",
    "                score_row = {\"course\": assessments[\"exam_name\"],\n",
    "                             \"user_id\": assessments[\"user_exam_id\"],\n",
    "                             \"correct\": assessments[\"sequences\"][\"counts\"][\"correct\"],\n",
    "                             \"total\": assessments[\"sequences\"][\"counts\"][\"total\"], \n",
    "                             \"score\": assessments[\"sequences\"][\"counts\"][\"correct\"]/assessments[\"sequences\"][\"counts\"][\"total\"]\n",
    "                            }\n",
    "        \n",
    "            assessment_scores.append(Row(**score_row))\n",
    "        \n",
    "    return assessment_scores\n",
    "\n",
    "assessmnt_dtls = assessments.rdd.flatMap(extract_assessment_dtls_from_json).toDF()\n",
    "\n"
   ]
  },
  {
   "cell_type": "code",
   "execution_count": 296,
   "metadata": {},
   "outputs": [
    {
     "name": "stdout",
     "output_type": "stream",
     "text": [
      "+-------+--------------------+-----+-----+--------------------+\n",
      "|correct|              course|score|total|             user_id|\n",
      "+-------+--------------------+-----+-----+--------------------+\n",
      "|      2|Normal Forms and ...|  0.5|    4|6d4089e4-bde5-4a2...|\n",
      "|      1|Normal Forms and ...| 0.25|    4|2fec1534-b41f-441...|\n",
      "|      3|The Principles of...| 0.75|    4|8edbc8a8-4d26-429...|\n",
      "|      2|The Principles of...|  0.5|    4|c0ee680e-8892-4e6...|\n",
      "|      3|Introduction to B...| 0.75|    4|e4525b79-7904-405...|\n",
      "+-------+--------------------+-----+-----+--------------------+\n",
      "only showing top 5 rows\n",
      "\n"
     ]
    }
   ],
   "source": [
    "assessmnt_dtls.show(5)"
   ]
  },
  {
   "cell_type": "code",
   "execution_count": 297,
   "metadata": {
    "collapsed": true
   },
   "outputs": [],
   "source": [
    "assessmnt_dtls.registerTempTable('assessment_scores')"
   ]
  },
  {
   "cell_type": "code",
   "execution_count": 298,
   "metadata": {},
   "outputs": [
    {
     "name": "stdout",
     "output_type": "stream",
     "text": [
      "+----------------+\n",
      "|   average_score|\n",
      "+----------------+\n",
      "|67.6142131979696|\n",
      "+----------------+\n",
      "\n"
     ]
    }
   ],
   "source": [
    "#average score for Learning Git course only\n",
    "spark.sql(\"select avg(score)*100 as average_score from assessment_scores where course = 'Learning Git'\").show()"
   ]
  },
  {
   "cell_type": "code",
   "execution_count": 299,
   "metadata": {},
   "outputs": [
    {
     "name": "stdout",
     "output_type": "stream",
     "text": [
      "+-------------------------------+-----------------+\n",
      "|course                         |average_score    |\n",
      "+-------------------------------+-----------------+\n",
      "|Learning Git                   |67.6142131979696 |\n",
      "|Introduction to Python         |56.66666666666664|\n",
      "|Introduction to Java 8         |87.59493670886073|\n",
      "|Intermediate Python Programming|51.26582278481012|\n",
      "|Learning to Program with R     |54.46428571428569|\n",
      "+-------------------------------+-----------------+\n",
      "only showing top 5 rows\n",
      "\n"
     ]
    }
   ],
   "source": [
    "#average scores for top 5 most popular courses\n",
    "spark.sql(\"select course, avg(score)*100 as average_score from assessment_scores group by 1 order by count(user_id) desc\").show(5, False)"
   ]
  },
  {
   "cell_type": "code",
   "execution_count": 300,
   "metadata": {},
   "outputs": [
    {
     "data": {
      "image/png": "[encoded data removed]",
      "text/plain": [
       "<matplotlib.figure.Figure at 0x7f1bcaffa198>"
      ]
     },
     "metadata": {},
     "output_type": "display_data"
    }
   ],
   "source": [
    "#include data visualization here \n",
    "import pandas as pd\n",
    "import matplotlib.pyplot as plt\n",
    "import numpy as np\n",
    "import matplotlib.ticker as mtick\n",
    "\n",
    "\n",
    "# import seaborn as sns\n",
    "top_5 = ['Learning Git', 'Introduction to Python', 'Introduction to Java 8', 'Intermediate Python Programming', 'Learning to Program with R']\n",
    "df = assessmnt_dtls.toPandas()\n",
    "df = df[df['course'].isin(top_5)] \n",
    "avg_scores = df[['score', 'course']].groupby('course').mean()\n",
    "ax = avg_scores.plot(kind='bar', figsize = (10,7), title = \"Average Assessment Scores Across Top 5 Courses\")\n",
    "ax.set_xlabel('Courses')\n",
    "ax.set_ylabel('Score')\n",
    "yvals = ax.get_yticks()\n",
    "ax.set_yticklabels([\"{:,.1%}\".format(y) for y in yvals], fontsize=12)\n",
    "plt.show()"
   ]
  },
  {
   "cell_type": "markdown",
   "metadata": {},
   "source": [
    "## Part 4: Write to HDFS "
   ]
  },
  {
   "cell_type": "markdown",
   "metadata": {},
   "source": [
    "Write to Hadoop HDFS in parquet format to allow us to build a batch and serving layer. Repeat this command for all dataframes. "
   ]
  },
  {
   "cell_type": "code",
   "execution_count": 301,
   "metadata": {},
   "outputs": [
    {
     "ename": "AnalysisException",
     "evalue": "'path hdfs://cloudera/tmp already exists.;'",
     "output_type": "error",
     "traceback": [
      "\u001b[0;31m---------------------------------------------------------------------------\u001b[0m",
      "\u001b[0;31mPy4JJavaError\u001b[0m                             Traceback (most recent call last)",
      "\u001b[0;32m/spark-2.2.0-bin-hadoop2.6/python/pyspark/sql/utils.py\u001b[0m in \u001b[0;36mdeco\u001b[0;34m(*a, **kw)\u001b[0m\n\u001b[1;32m     62\u001b[0m         \u001b[0;32mtry\u001b[0m\u001b[0;34m:\u001b[0m\u001b[0;34m\u001b[0m\u001b[0m\n\u001b[0;32m---> 63\u001b[0;31m             \u001b[0;32mreturn\u001b[0m \u001b[0mf\u001b[0m\u001b[0;34m(\u001b[0m\u001b[0;34m*\u001b[0m\u001b[0ma\u001b[0m\u001b[0;34m,\u001b[0m \u001b[0;34m**\u001b[0m\u001b[0mkw\u001b[0m\u001b[0;34m)\u001b[0m\u001b[0;34m\u001b[0m\u001b[0m\n\u001b[0m\u001b[1;32m     64\u001b[0m         \u001b[0;32mexcept\u001b[0m \u001b[0mpy4j\u001b[0m\u001b[0;34m.\u001b[0m\u001b[0mprotocol\u001b[0m\u001b[0;34m.\u001b[0m\u001b[0mPy4JJavaError\u001b[0m \u001b[0;32mas\u001b[0m \u001b[0me\u001b[0m\u001b[0;34m:\u001b[0m\u001b[0;34m\u001b[0m\u001b[0m\n",
      "\u001b[0;32m/spark-2.2.0-bin-hadoop2.6/python/lib/py4j-0.10.4-src.zip/py4j/protocol.py\u001b[0m in \u001b[0;36mget_return_value\u001b[0;34m(answer, gateway_client, target_id, name)\u001b[0m\n\u001b[1;32m    318\u001b[0m                     \u001b[0;34m\"An error occurred while calling {0}{1}{2}.\\n\"\u001b[0m\u001b[0;34m.\u001b[0m\u001b[0;34m\u001b[0m\u001b[0m\n\u001b[0;32m--> 319\u001b[0;31m                     format(target_id, \".\", name), value)\n\u001b[0m\u001b[1;32m    320\u001b[0m             \u001b[0;32melse\u001b[0m\u001b[0;34m:\u001b[0m\u001b[0;34m\u001b[0m\u001b[0m\n",
      "\u001b[0;31mPy4JJavaError\u001b[0m: An error occurred while calling o2751.parquet.\n: org.apache.spark.sql.AnalysisException: path hdfs://cloudera/tmp already exists.;\n\tat org.apache.spark.sql.execution.datasources.InsertIntoHadoopFsRelationCommand.run(InsertIntoHadoopFsRelationCommand.scala:106)\n\tat org.apache.spark.sql.execution.command.ExecutedCommandExec.sideEffectResult$lzycompute(commands.scala:58)\n\tat org.apache.spark.sql.execution.command.ExecutedCommandExec.sideEffectResult(commands.scala:56)\n\tat org.apache.spark.sql.execution.command.ExecutedCommandExec.doExecute(commands.scala:74)\n\tat org.apache.spark.sql.execution.SparkPlan$$anonfun$execute$1.apply(SparkPlan.scala:117)\n\tat org.apache.spark.sql.execution.SparkPlan$$anonfun$execute$1.apply(SparkPlan.scala:117)\n\tat org.apache.spark.sql.execution.SparkPlan$$anonfun$executeQuery$1.apply(SparkPlan.scala:138)\n\tat org.apache.spark.rdd.RDDOperationScope$.withScope(RDDOperationScope.scala:151)\n\tat org.apache.spark.sql.execution.SparkPlan.executeQuery(SparkPlan.scala:135)\n\tat org.apache.spark.sql.execution.SparkPlan.execute(SparkPlan.scala:116)\n\tat org.apache.spark.sql.execution.QueryExecution.toRdd$lzycompute(QueryExecution.scala:92)\n\tat org.apache.spark.sql.execution.QueryExecution.toRdd(QueryExecution.scala:92)\n\tat org.apache.spark.sql.execution.datasources.DataSource.writeInFileFormat(DataSource.scala:438)\n\tat org.apache.spark.sql.execution.datasources.DataSource.write(DataSource.scala:474)\n\tat org.apache.spark.sql.execution.datasources.SaveIntoDataSourceCommand.run(SaveIntoDataSourceCommand.scala:48)\n\tat org.apache.spark.sql.execution.command.ExecutedCommandExec.sideEffectResult$lzycompute(commands.scala:58)\n\tat org.apache.spark.sql.execution.command.ExecutedCommandExec.sideEffectResult(commands.scala:56)\n\tat org.apache.spark.sql.execution.command.ExecutedCommandExec.doExecute(commands.scala:74)\n\tat org.apache.spark.sql.execution.SparkPlan$$anonfun$execute$1.apply(SparkPlan.scala:117)\n\tat org.apache.spark.sql.execution.SparkPlan$$anonfun$execute$1.apply(SparkPlan.scala:117)\n\tat org.apache.spark.sql.execution.SparkPlan$$anonfun$executeQuery$1.apply(SparkPlan.scala:138)\n\tat org.apache.spark.rdd.RDDOperationScope$.withScope(RDDOperationScope.scala:151)\n\tat org.apache.spark.sql.execution.SparkPlan.executeQuery(SparkPlan.scala:135)\n\tat org.apache.spark.sql.execution.SparkPlan.execute(SparkPlan.scala:116)\n\tat org.apache.spark.sql.execution.QueryExecution.toRdd$lzycompute(QueryExecution.scala:92)\n\tat org.apache.spark.sql.execution.QueryExecution.toRdd(QueryExecution.scala:92)\n\tat org.apache.spark.sql.DataFrameWriter.runCommand(DataFrameWriter.scala:610)\n\tat org.apache.spark.sql.DataFrameWriter.save(DataFrameWriter.scala:233)\n\tat org.apache.spark.sql.DataFrameWriter.save(DataFrameWriter.scala:217)\n\tat org.apache.spark.sql.DataFrameWriter.parquet(DataFrameWriter.scala:509)\n\tat sun.reflect.GeneratedMethodAccessor207.invoke(Unknown Source)\n\tat sun.reflect.DelegatingMethodAccessorImpl.invoke(DelegatingMethodAccessorImpl.java:43)\n\tat java.lang.reflect.Method.invoke(Method.java:498)\n\tat py4j.reflection.MethodInvoker.invoke(MethodInvoker.java:244)\n\tat py4j.reflection.ReflectionEngine.invoke(ReflectionEngine.java:357)\n\tat py4j.Gateway.invoke(Gateway.java:280)\n\tat py4j.commands.AbstractCommand.invokeMethod(AbstractCommand.java:132)\n\tat py4j.commands.CallCommand.execute(CallCommand.java:79)\n\tat py4j.GatewayConnection.run(GatewayConnection.java:214)\n\tat java.lang.Thread.run(Thread.java:748)\n",
      "\nDuring handling of the above exception, another exception occurred:\n",
      "\u001b[0;31mAnalysisException\u001b[0m                         Traceback (most recent call last)",
      "\u001b[0;32m<ipython-input-301-eeb8628a46d0>\u001b[0m in \u001b[0;36m<module>\u001b[0;34m()\u001b[0m\n\u001b[0;32m----> 1\u001b[0;31m \u001b[0massessments\u001b[0m\u001b[0;34m.\u001b[0m\u001b[0mwrite\u001b[0m\u001b[0;34m.\u001b[0m\u001b[0mparquet\u001b[0m\u001b[0;34m(\u001b[0m\u001b[0;34m\"/tmp/\"\u001b[0m\u001b[0;34m)\u001b[0m\u001b[0;34m\u001b[0m\u001b[0m\n\u001b[0m",
      "\u001b[0;32m/spark-2.2.0-bin-hadoop2.6/python/pyspark/sql/readwriter.py\u001b[0m in \u001b[0;36mparquet\u001b[0;34m(self, path, mode, partitionBy, compression)\u001b[0m\n\u001b[1;32m    689\u001b[0m             \u001b[0mself\u001b[0m\u001b[0;34m.\u001b[0m\u001b[0mpartitionBy\u001b[0m\u001b[0;34m(\u001b[0m\u001b[0mpartitionBy\u001b[0m\u001b[0;34m)\u001b[0m\u001b[0;34m\u001b[0m\u001b[0m\n\u001b[1;32m    690\u001b[0m         \u001b[0mself\u001b[0m\u001b[0;34m.\u001b[0m\u001b[0m_set_opts\u001b[0m\u001b[0;34m(\u001b[0m\u001b[0mcompression\u001b[0m\u001b[0;34m=\u001b[0m\u001b[0mcompression\u001b[0m\u001b[0;34m)\u001b[0m\u001b[0;34m\u001b[0m\u001b[0m\n\u001b[0;32m--> 691\u001b[0;31m         \u001b[0mself\u001b[0m\u001b[0;34m.\u001b[0m\u001b[0m_jwrite\u001b[0m\u001b[0;34m.\u001b[0m\u001b[0mparquet\u001b[0m\u001b[0;34m(\u001b[0m\u001b[0mpath\u001b[0m\u001b[0;34m)\u001b[0m\u001b[0;34m\u001b[0m\u001b[0m\n\u001b[0m\u001b[1;32m    692\u001b[0m \u001b[0;34m\u001b[0m\u001b[0m\n\u001b[1;32m    693\u001b[0m     \u001b[0;34m@\u001b[0m\u001b[0msince\u001b[0m\u001b[0;34m(\u001b[0m\u001b[0;36m1.6\u001b[0m\u001b[0;34m)\u001b[0m\u001b[0;34m\u001b[0m\u001b[0m\n",
      "\u001b[0;32m/spark-2.2.0-bin-hadoop2.6/python/lib/py4j-0.10.4-src.zip/py4j/java_gateway.py\u001b[0m in \u001b[0;36m__call__\u001b[0;34m(self, *args)\u001b[0m\n\u001b[1;32m   1131\u001b[0m         \u001b[0manswer\u001b[0m \u001b[0;34m=\u001b[0m \u001b[0mself\u001b[0m\u001b[0;34m.\u001b[0m\u001b[0mgateway_client\u001b[0m\u001b[0;34m.\u001b[0m\u001b[0msend_command\u001b[0m\u001b[0;34m(\u001b[0m\u001b[0mcommand\u001b[0m\u001b[0;34m)\u001b[0m\u001b[0;34m\u001b[0m\u001b[0m\n\u001b[1;32m   1132\u001b[0m         return_value = get_return_value(\n\u001b[0;32m-> 1133\u001b[0;31m             answer, self.gateway_client, self.target_id, self.name)\n\u001b[0m\u001b[1;32m   1134\u001b[0m \u001b[0;34m\u001b[0m\u001b[0m\n\u001b[1;32m   1135\u001b[0m         \u001b[0;32mfor\u001b[0m \u001b[0mtemp_arg\u001b[0m \u001b[0;32min\u001b[0m \u001b[0mtemp_args\u001b[0m\u001b[0;34m:\u001b[0m\u001b[0;34m\u001b[0m\u001b[0m\n",
      "\u001b[0;32m/spark-2.2.0-bin-hadoop2.6/python/pyspark/sql/utils.py\u001b[0m in \u001b[0;36mdeco\u001b[0;34m(*a, **kw)\u001b[0m\n\u001b[1;32m     67\u001b[0m                                              e.java_exception.getStackTrace()))\n\u001b[1;32m     68\u001b[0m             \u001b[0;32mif\u001b[0m \u001b[0ms\u001b[0m\u001b[0;34m.\u001b[0m\u001b[0mstartswith\u001b[0m\u001b[0;34m(\u001b[0m\u001b[0;34m'org.apache.spark.sql.AnalysisException: '\u001b[0m\u001b[0;34m)\u001b[0m\u001b[0;34m:\u001b[0m\u001b[0;34m\u001b[0m\u001b[0m\n\u001b[0;32m---> 69\u001b[0;31m                 \u001b[0;32mraise\u001b[0m \u001b[0mAnalysisException\u001b[0m\u001b[0;34m(\u001b[0m\u001b[0ms\u001b[0m\u001b[0;34m.\u001b[0m\u001b[0msplit\u001b[0m\u001b[0;34m(\u001b[0m\u001b[0;34m': '\u001b[0m\u001b[0;34m,\u001b[0m \u001b[0;36m1\u001b[0m\u001b[0;34m)\u001b[0m\u001b[0;34m[\u001b[0m\u001b[0;36m1\u001b[0m\u001b[0;34m]\u001b[0m\u001b[0;34m,\u001b[0m \u001b[0mstackTrace\u001b[0m\u001b[0;34m)\u001b[0m\u001b[0;34m\u001b[0m\u001b[0m\n\u001b[0m\u001b[1;32m     70\u001b[0m             \u001b[0;32mif\u001b[0m \u001b[0ms\u001b[0m\u001b[0;34m.\u001b[0m\u001b[0mstartswith\u001b[0m\u001b[0;34m(\u001b[0m\u001b[0;34m'org.apache.spark.sql.catalyst.analysis'\u001b[0m\u001b[0;34m)\u001b[0m\u001b[0;34m:\u001b[0m\u001b[0;34m\u001b[0m\u001b[0m\n\u001b[1;32m     71\u001b[0m                 \u001b[0;32mraise\u001b[0m \u001b[0mAnalysisException\u001b[0m\u001b[0;34m(\u001b[0m\u001b[0ms\u001b[0m\u001b[0;34m.\u001b[0m\u001b[0msplit\u001b[0m\u001b[0;34m(\u001b[0m\u001b[0;34m': '\u001b[0m\u001b[0;34m,\u001b[0m \u001b[0;36m1\u001b[0m\u001b[0;34m)\u001b[0m\u001b[0;34m[\u001b[0m\u001b[0;36m1\u001b[0m\u001b[0;34m]\u001b[0m\u001b[0;34m,\u001b[0m \u001b[0mstackTrace\u001b[0m\u001b[0;34m)\u001b[0m\u001b[0;34m\u001b[0m\u001b[0m\n",
      "\u001b[0;31mAnalysisException\u001b[0m: 'path hdfs://cloudera/tmp already exists.;'"
     ]
    }
   ],
   "source": [
    "assessments.write.parquet(\"/tmp/\")"
   ]
  },
  {
   "cell_type": "code",
   "execution_count": 302,
   "metadata": {},
   "outputs": [],
   "source": [
    "assessments.write.mode(\"overwrite\").parquet(\"/tmp/assessments\")"
   ]
  },
  {
   "cell_type": "code",
   "execution_count": 303,
   "metadata": {},
   "outputs": [],
   "source": [
    "assessments.write.mode(\"overwrite\").parquet(\"/tmp/extracted_assessments\")"
   ]
  },
  {
   "cell_type": "code",
   "execution_count": 304,
   "metadata": {},
   "outputs": [],
   "source": [
    "assessments.write.mode(\"overwrite\").parquet(\"/tmp/assessmnt_dtls\")"
   ]
  },
  {
   "cell_type": "markdown",
   "metadata": {},
   "source": [
    "## Part 5: Linux Commands - Tear Down"
   ]
  },
  {
   "cell_type": "markdown",
   "metadata": {},
   "source": [
    "##### check hadoop hdfs writes\n",
    "docker-compose exec cloudera hadoop fs -ls /tmp/\n",
    "\n",
    "docker-compose exec cloudera hadoop fs -ls /tmp/assessments/\n",
    "\n",
    "docker-compose exec cloudera hadoop fs -ls /tmp/extracted_assessments/\n",
    "\n",
    "docker-compose exec cloudera hadoop fs -ls /tmp/assessmnt_dtls\n",
    "\n",
    "##### tear down cluster\n",
    "docker-compose down"
   ]
  }
 ],
 "metadata": {
  "kernelspec": {
   "display_name": "Python 3",
   "language": "python",
   "name": "python3"
  }
 },
 "nbformat": 4,
 "nbformat_minor": 2
}
