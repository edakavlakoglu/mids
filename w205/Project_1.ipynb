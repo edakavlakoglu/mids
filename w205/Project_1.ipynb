{
 "cells": [
  {
   "cell_type": "markdown",
   "id": "3384eb95",
   "metadata": {},
   "source": [
    "### Executive Summary"
   ]
  },
  {
   "cell_type": "markdown",
   "id": "b03f08cf",
   "metadata": {},
   "source": [
    "The purpose of this analysis is to assess the market opportunity to grow ridership for Lyft Bay Wheels through offers and promotions via their mobile app. \n",
    "\n",
    "Upon analysis of the available data, some quality issues have been identified, such as:\n",
    "* mislabeling of time zone as UTC instead of PST \n",
    "* method of data collection for zip code data is subject to errors (e.g. 'nil'); may be better to collect this data based off of credit card information\n",
    "* Subscriber_type information could be more granular. It's not clear how often subscriber users are churning, which can impact the effectiveness of a promotion strategy.\n",
    "\n",
    "That said, based on the available data, we are able to determine that ridership behavior is seasonal, where ridership tends to increase during summer months. This may be due to increased tourism and/or an increased desire to enjoy warmer weather by residents of San Francisco. Complementary survey data may help to supplement why seasonal trends occur, particularly among subscribers. \n",
    "\n",
    "There are also key locations that are frequented by \"commuters.\" We have defined commuters as any trips that start or end at a train station using the bike station name fields, start_station_name and end_station_name. We've defined train station bike stations as any bike station name containing the words: \"caltrain\", \"rail\", or \"bart\". These are the top stations, which occur within the top 5 most popular trips among commuters: \n",
    "\n",
    "1. SF Caltrain 2 (330 Townsend) \n",
    "2. Townsend at 7th \n",
    "3. Embarcadero at Folsom \n",
    "4. SF Caltrain (Townsend at 4th)\n",
    "5. Harry Bridges Plaza\n",
    "6. Steuart at Market\n",
    "\n",
    "Based on these observations, we recommend the following options to be considered as part of the promotional strategy:\n",
    "* To boost ridership in December, it may be helpful to run a promotion as a holiday special (e.g. give the gift of ridership). \n",
    "* A promotion could also be offered in January to capitalize off of new years resolutions (e.g. weight loss, outdoor goals, et cetera). This type of offer may help to convert customers to subscribers. It may also help to stabilize ridership in January. \n",
    "* Summer promotions could highlight the impact of bike ridership on the city's carbon footprint, which may persuade residents and tourists to choose bikes vs. ubers/lyfts. \n",
    "* Given the high traffic of riders at Harry Bridges Plaza, Lyft may want to host a ridership recruitment event nearby. The event could primarily focus on converting customers to subscribers by highlighting the benefits of bike ridership that current subscribers have already experienced. \n",
    "* It might also make sense to offer a promotion to nearby companies to companies in the surrounding areas of the 5 most popular commuter trips. Corporate memberships can be helpful in converting new users and the mobile app could potentially be used to gamify ridership through a point system. Similar to the days of company kickball or softball, employees can potentially compete with neighboring companies for the most miles ridden. "
   ]
  },
  {
   "cell_type": "markdown",
   "id": "c4ee57f8",
   "metadata": {},
   "source": [
    "### Results"
   ]
  },
  {
   "cell_type": "markdown",
   "id": "3c24506a",
   "metadata": {},
   "source": [
    "#### Part 1 - Querying Data with BigQuery"
   ]
  },
  {
   "cell_type": "markdown",
   "id": "11d85fb5",
   "metadata": {},
   "source": [
    "1. What's the size of this dataset? (i.e., how many trips)\n",
    "\n",
    "```\n",
    "SELECT count(*) as row_count\n",
    "FROM `bigquery-public-data.san_francisco.bikeshare_trips` \n",
    "LIMIT 1000\n",
    "```\n",
    "\n",
    "```\n",
    "SELECT count(distinct trip_id) as row_count\n",
    "FROM `bigquery-public-data.san_francisco.bikeshare_trips` \n",
    "LIMIT 1000\n",
    "```\n",
    "\n",
    "> Both queries return 983,648."
   ]
  },
  {
   "cell_type": "markdown",
   "id": "ce5fd157",
   "metadata": {},
   "source": [
    "2. What is the earliest start date and time and latest end date and time for a trip?\n",
    "\n",
    "```\n",
    "SELECT min(start_date) as earliest_start_date, max(end_date) as latest_end_date \n",
    "FROM `bigquery-public-data.san_francisco.bikeshare_trips` \n",
    "LIMIT 1000\n",
    "```\n",
    "\n",
    "> * The earliest start date and time for a trip is: 2013-08-29 09:08:00 UTC\n",
    "> * The latest end date and time for a trip is: 2016-08-31 23:48:00 UTC"
   ]
  },
  {
   "cell_type": "markdown",
   "id": "93922cbe",
   "metadata": {},
   "source": [
    "3. How many bikes are there?\n",
    "\n",
    "```\n",
    "SELECT count(distinct bike_number) as bike_cnt \n",
    "FROM `bigquery-public-data.san_francisco.bikeshare_trips` \n",
    "LIMIT 1000\n",
    "```\n",
    "\n",
    "> There are 700 bikes."
   ]
  },
  {
   "cell_type": "markdown",
   "id": "320eca39",
   "metadata": {},
   "source": [
    "#### Questions of your own"
   ]
  },
  {
   "cell_type": "markdown",
   "id": "5837015a",
   "metadata": {},
   "source": [
    "**Question 1:** What is the average trip duration (in minutes)?\n",
    "\n",
    " ```\n",
    "SELECT ROUND(AVG(TIMESTAMP_DIFF(end_date, start_date, MINUTE))) as avg_trip_time\n",
    "FROM `bigquery-public-data.san_francisco.bikeshare_trips` \n",
    "LIMIT 1000\n",
    " ```\n",
    " \n",
    "> Answer: 17.0 minutes "
   ]
  },
  {
   "cell_type": "markdown",
   "id": "8e720c49",
   "metadata": {},
   "source": [
    "**Question 2:** Which zip code has the most bike trips?\n",
    "\n",
    "```\n",
    "SELECT zip_code, count(trip_id) as trip_cnt\n",
    "    FROM `bigquery-public-data.san_francisco.bikeshare_trips` \n",
    "    group by zip_code\n",
    "    order by trip_cnt desc\n",
    "    LIMIT 1000 \n",
    "```\n",
    "\n",
    "> Answer: 94107"
   ]
  },
  {
   "cell_type": "markdown",
   "id": "3457debc",
   "metadata": {},
   "source": [
    "**Question 3:** How many trips started and ended at the same trip station?\n",
    "\n",
    "```\n",
    "SELECT count(trip_id) as trip_cnt\n",
    "    FROM `bigquery-public-data.san_francisco.bikeshare_trips` \n",
    "    where start_station_id = end_station_id\n",
    "    LIMIT 1000\n",
    "```\n",
    "\n",
    "> Answer: 32047"
   ]
  },
  {
   "cell_type": "markdown",
   "id": "e5b9c1c9",
   "metadata": {},
   "source": [
    "#### Part 2 - Querying Data from the BigQuery CLI "
   ]
  },
  {
   "cell_type": "markdown",
   "id": "a159970b",
   "metadata": {},
   "source": [
    "**1. What's the size of this dataset? (i.e., how many trips)**"
   ]
  },
  {
   "cell_type": "code",
   "execution_count": 319,
   "id": "03ff9088",
   "metadata": {},
   "outputs": [
    {
     "name": "stdout",
     "output_type": "stream",
     "text": [
      "Waiting on bqjob_r712e457938690c86_0000017c38f64054_1 ... (0s) Current status: DONE   \n",
      "+-----------+\n",
      "| row_count |\n",
      "+-----------+\n",
      "|    983648 |\n",
      "+-----------+\n",
      "Waiting on bqjob_r52d21953fdb66834_0000017c38f64b83_1 ... (1s) Current status: DONE   \n",
      "+-----------+\n",
      "| row_count |\n",
      "+-----------+\n",
      "|    983648 |\n",
      "+-----------+\n"
     ]
    }
   ],
   "source": [
    "! bq query --use_legacy_sql=FALSE 'SELECT count(*) as row_count FROM `bigquery-public-data.san_francisco.bikeshare_trips` LIMIT 1000'\n",
    "\n",
    "#double check with distinct\n",
    "! bq query --use_legacy_sql=FALSE 'SELECT count(distinct trip_id) as row_count FROM `bigquery-public-data.san_francisco.bikeshare_trips` LIMIT 1000'"
   ]
  },
  {
   "cell_type": "markdown",
   "id": "0a501574",
   "metadata": {},
   "source": [
    "Both queries return 983,648."
   ]
  },
  {
   "cell_type": "markdown",
   "id": "ddd795a6",
   "metadata": {},
   "source": [
    "**2. What is the earliest start date and time and latest end date and time for a trip?**"
   ]
  },
  {
   "cell_type": "code",
   "execution_count": 320,
   "id": "a0a323ec",
   "metadata": {},
   "outputs": [
    {
     "name": "stdout",
     "output_type": "stream",
     "text": [
      "Waiting on bqjob_r68a715303eeb862c_0000017c38f65b08_1 ... (0s) Current status: DONE   \n",
      "+---------------------+---------------------+\n",
      "| earliest_start_date |   latest_end_date   |\n",
      "+---------------------+---------------------+\n",
      "| 2013-08-29 09:08:00 | 2016-08-31 23:48:00 |\n",
      "+---------------------+---------------------+\n"
     ]
    }
   ],
   "source": [
    "! bq query --use_legacy_sql=FALSE 'SELECT min(start_date) as earliest_start_date, max(end_date) as latest_end_date FROM `bigquery-public-data.san_francisco.bikeshare_trips` LIMIT 1000'"
   ]
  },
  {
   "cell_type": "markdown",
   "id": "b5b667d0",
   "metadata": {},
   "source": [
    "* The earliest start date and time for a trip is: 2013-08-29 09:08:00 UTC\n",
    "* The latest end date and time for a trip is: 2016-08-31 23:48:00 UTC"
   ]
  },
  {
   "cell_type": "markdown",
   "id": "46a295d3",
   "metadata": {},
   "source": [
    "**3. How many bikes are there?**"
   ]
  },
  {
   "cell_type": "code",
   "execution_count": 321,
   "id": "e77e8171",
   "metadata": {},
   "outputs": [
    {
     "name": "stdout",
     "output_type": "stream",
     "text": [
      "Waiting on bqjob_raeda813ad6d03a2_0000017c38f66684_1 ... (0s) Current status: DONE   \n",
      "+----------+\n",
      "| bike_cnt |\n",
      "+----------+\n",
      "|      700 |\n",
      "+----------+\n"
     ]
    }
   ],
   "source": [
    "! bq query --use_legacy_sql=FALSE 'SELECT count(distinct bike_number) as bike_cnt FROM `bigquery-public-data.san_francisco.bikeshare_trips` LIMIT 1000'"
   ]
  },
  {
   "cell_type": "markdown",
   "id": "70ee5c19",
   "metadata": {},
   "source": [
    "There are 700 bikes."
   ]
  },
  {
   "cell_type": "markdown",
   "id": "d7bf4ca1",
   "metadata": {},
   "source": [
    "**4. How many trips are in the morning vs in the afternoon?**\n",
    "\n",
    "There are 399,821 trips in the morning and 391,199trips in the afternoon. \n",
    "\n",
    "Please note that \"morning\" and afternoon\" were defined as:\n",
    "* Morning is defined as hours between 6am and 12pm PST.\n",
    "* Afternoon is defined as hours between 12pm and 6pm PST. \n",
    "\n",
    "Based on some exploratory data analysis, we can conclude that start date has been mislabeled. The values in this field denote UTC, but as noted in the schema, the data is actually PST. "
   ]
  },
  {
   "cell_type": "code",
   "execution_count": null,
   "id": "9fd8504d",
   "metadata": {},
   "outputs": [
    {
     "name": "stdout",
     "output_type": "stream",
     "text": [
      "Executing query with job ID: 0471b510-b0f8-4042-b617-82d18bc8388a\n",
      "Query executing: 0.98s"
     ]
    }
   ],
   "source": [
    "%%bigquery\n",
    "\n",
    "select time_of_day, count(distinct trip_id) as trip_cnt from (SELECT\n",
    "CASE WHEN TIME(start_date) > \"05:59:00\" and TIME(start_date) < \"12:00:00\" THEN 'Morning'\n",
    "WHEN TIME(start_date) > \"11:59:00\" and TIME(start_date) < \"18:00:00\" THEN 'Afternoon'\n",
    "ELSE 'Night' END AS time_of_day, *\n",
    "FROM `bigquery-public-data.san_francisco.bikeshare_trips` ) t \n",
    "WHERE time_of_day = 'Morning' or time_of_day = 'Afternoon'\n",
    "group by 1"
   ]
  },
  {
   "cell_type": "code",
   "execution_count": null,
   "id": "fa681f0c",
   "metadata": {},
   "outputs": [],
   "source": [
    "%%bigquery hour_data\n",
    "\n",
    "select EXTRACT(HOUR FROM TIMESTAMP(start_date)) as hour_of_day, count(distinct trip_id) as trip_cnt \n",
    "FROM `bigquery-public-data.san_francisco.bikeshare_trips` \n",
    "group by 1\n",
    "order by 1 asc"
   ]
  },
  {
   "cell_type": "code",
   "execution_count": null,
   "id": "e2020e79",
   "metadata": {},
   "outputs": [],
   "source": [
    "#exploratory data analysis: plot hourly data to confirm mislabeling in start date data field\n",
    "\n",
    "hour_data.plot.bar(x='hour_of_day', rot=0, legend=False)\n",
    "plt.title(\"Trips by Hour of the Day\")\n",
    "plt.ylabel(\"Trip Count\")\n",
    "plt.xlabel(\"Hour of the Day\")"
   ]
  },
  {
   "cell_type": "markdown",
   "id": "7cd0f4a3",
   "metadata": {},
   "source": [
    "Peak hours of ridership are between 7am and 10am and 4pm and 7pm."
   ]
  },
  {
   "cell_type": "code",
   "execution_count": null,
   "id": "fb4d8616",
   "metadata": {},
   "outputs": [],
   "source": [
    "%%bigquery data\n",
    "\n",
    "select *\n",
    "FROM `bigquery-public-data.san_francisco.bikeshare_trips` "
   ]
  },
  {
   "cell_type": "code",
   "execution_count": null,
   "id": "e3f3622e",
   "metadata": {},
   "outputs": [],
   "source": [
    "#exploratory data analysis - inspect data columns for any other data quality issues\n",
    "\n",
    "num_cols = list(data.columns)\n",
    "print(num_cols)\n",
    "len(num_cols)"
   ]
  },
  {
   "cell_type": "code",
   "execution_count": null,
   "id": "7e8f1443",
   "metadata": {},
   "outputs": [],
   "source": [
    "#exploratory data analysis - understand count of empty/null values in each column\n",
    "\n",
    "null_val={}\n",
    "for col in num_cols:\n",
    "    null_val[col]=len(data[data[col].isnull()==True])\n",
    "    print(col,':',null_val[col])"
   ]
  },
  {
   "cell_type": "markdown",
   "id": "b03ac5d8",
   "metadata": {},
   "source": [
    "#### Project Questions for Recommendations"
   ]
  },
  {
   "cell_type": "code",
   "execution_count": null,
   "id": "380ca708",
   "metadata": {},
   "outputs": [],
   "source": [
    "#import libraries for plots \n",
    "\n",
    "import matplotlib.pyplot as plt\n",
    "import pandas as pd\n",
    "import seaborn as sns\n",
    "import matplotlib.ticker as mtick"
   ]
  },
  {
   "cell_type": "markdown",
   "id": "f9f87436",
   "metadata": {},
   "source": [
    "**1. What month of the year do customers and subscribers rent bikes the most?**"
   ]
  },
  {
   "cell_type": "markdown",
   "id": "680840ce",
   "metadata": {},
   "source": [
    "The most popular month for ridership fluctuates by year. October yielded the most riders in 2014, while July had the most riders in 2015. On average, August and October appear to be the highest months for ridership, but with incomplete data in 2013 and 2016, this isn't very conclusive. "
   ]
  },
  {
   "cell_type": "code",
   "execution_count": null,
   "id": "78566788",
   "metadata": {},
   "outputs": [],
   "source": [
    "%%bigquery data\n",
    "\n",
    "SELECT format_datetime('%Y', start_date) as year, format_datetime('%m', start_date) as month, count(distinct trip_id) as trip_cnt   \n",
    "    FROM `bigquery-public-data.san_francisco.bikeshare_trips` \n",
    "    GROUP BY 1, 2\n",
    "    ORDER BY 1 asc "
   ]
  },
  {
   "cell_type": "code",
   "execution_count": null,
   "id": "641fcfd3",
   "metadata": {},
   "outputs": [],
   "source": [
    "#plot a heatmap of bike usage over time\n",
    "\n",
    "plt.figure(figsize = (25,6))\n",
    "pt = data.pivot_table(index=\"year\",columns=\"month\",values=\"trip_cnt\", aggfunc=\"sum\").fillna(0)\n",
    "pt.columns = [\"Jan\", \"Feb\", \"Mar\", \"Apr\", \"May\", \"Jun\", \"Jul\", \"Aug\", \"Sep\", \"Oct\", \"Nov\", \"Dec\"]\n",
    "sns.heatmap(pt, annot=True, cmap = 'Blues', alpha = .8, fmt='g')\n",
    "plt.title(\"Count of Bike Trips by Month and Year\", fontsize =16)\n",
    "plt.xlabel('Month')"
   ]
  },
  {
   "cell_type": "code",
   "execution_count": null,
   "id": "01e7e3e9",
   "metadata": {},
   "outputs": [],
   "source": [
    "#plot a horizontal bar chart of bike usage by month\n",
    "\n",
    "month = data.pivot_table(index= \"month\",values=\"trip_cnt\", aggfunc=\"sum\").fillna(0)\n",
    "month.index = [\"Jan\", \"Feb\", \"Mar\", \"Apr\", \"May\", \"Jun\", \"Jul\", \"Aug\", \"Sep\", \"Oct\", \"Nov\", \"Dec\"]\n",
    "month.plot.bar(title = \"Commuter Ridership by Month\")\n",
    "plt.title(\"Count of Bike Trips by Month and Year\", fontsize =16)\n",
    "plt.xticks(rotation = 45)\n",
    "plt.xlabel('Month')\n",
    "plt.legend([\"Trip Count\"], loc='upper left', fontsize='large')"
   ]
  },
  {
   "cell_type": "markdown",
   "id": "955e81c3",
   "metadata": {},
   "source": [
    "**2. How does the trip count differ between customers and subscribers over time?**"
   ]
  },
  {
   "cell_type": "code",
   "execution_count": null,
   "id": "c23a19ad",
   "metadata": {},
   "outputs": [],
   "source": [
    "%%bigquery df\n",
    "\n",
    "SELECT format_datetime('%Y-%m', start_date) as year_month, subscriber_type, count(distinct trip_id) as trip_cnt   \n",
    "    FROM `bigquery-public-data.san_francisco.bikeshare_trips` \n",
    "    GROUP BY 1, 2\n",
    "    ORDER BY 1 asc "
   ]
  },
  {
   "cell_type": "code",
   "execution_count": null,
   "id": "6881b39f",
   "metadata": {},
   "outputs": [],
   "source": [
    "#calculate % share of ridership by subscriber type\n",
    "\n",
    "sub_type = pd.DataFrame(df.groupby(['year_month', 'subscriber_type'])['trip_cnt'].sum()).unstack().fillna(0)\n",
    "perc = sub_type.div(sub_type.sum(1)/100, axis=0)\n",
    "ax = perc.plot(kind='bar', stacked=True, title = \"Ridership by Month of Year\")\n",
    "ax.set_ylabel(\"Percent of Trips (%)\")\n",
    "ax.yaxis.set_major_formatter(mtick.PercentFormatter())\n",
    "ax.set_xlabel(\"Month of Year\")\n",
    "plt.legend([\"Customer\", \"Subscriber\"], bbox_to_anchor=(1, 1), loc='upper left', fontsize='large')"
   ]
  },
  {
   "cell_type": "code",
   "execution_count": null,
   "id": "bd74534b",
   "metadata": {},
   "outputs": [],
   "source": [
    "%%bigquery cust_data\n",
    "\n",
    "SELECT format_datetime('%Y', start_date) as year, format_datetime('%m', start_date) as month, count(distinct trip_id) as trip_cnt   \n",
    "    FROM `bigquery-public-data.san_francisco.bikeshare_trips` \n",
    "    WHERE subscriber_type = 'Customer'\n",
    "    GROUP BY 1, 2\n",
    "    ORDER BY 1 asc "
   ]
  },
  {
   "cell_type": "code",
   "execution_count": null,
   "id": "d3abd811",
   "metadata": {},
   "outputs": [],
   "source": [
    "%%bigquery sub_data\n",
    "\n",
    "SELECT format_datetime('%Y', start_date) as year, format_datetime('%m', start_date) as month, count(distinct trip_id) as trip_cnt   \n",
    "    FROM `bigquery-public-data.san_francisco.bikeshare_trips` \n",
    "    WHERE subscriber_type = 'Subscriber'\n",
    "    GROUP BY 1, 2\n",
    "    ORDER BY 1 asc "
   ]
  },
  {
   "cell_type": "code",
   "execution_count": null,
   "id": "4475ea97",
   "metadata": {},
   "outputs": [],
   "source": [
    "#create subplots of ridership over time by subscriber type\n",
    "\n",
    "fig, (ax3, ax1, ax2) = plt.subplots(3, 1)\n",
    "plt.subplots_adjust(hspace=.5) #increase spacing btw plots\n",
    "\n",
    "#plot trips over time by 'Customers' and 'Subscribers' as a line graph\n",
    "d = pd.DataFrame(df.groupby(['year_month','subscriber_type'])['trip_cnt'].sum()).unstack()\n",
    "d.plot(ax = ax3, title = \"Trips by Month of Year\")\n",
    "ax3.set_ylabel(\"Trip Count\")\n",
    "ax3.set_xlabel(\"Month of Year\")\n",
    "ax3.legend([\"Customer\", \"Subscriber\"], bbox_to_anchor=(1, 1), loc='upper left', fontsize='large')\n",
    "\n",
    "#plot heatmap of 'Customer' ridership by month and year\n",
    "cd = cust_data.pivot_table(index=\"year\",columns=\"month\",values=\"trip_cnt\", aggfunc=\"sum\").fillna(0)\n",
    "cd.columns = [\"Jan\", \"Feb\", \"Mar\", \"Apr\", \"May\", \"Jun\", \"Jul\", \"Aug\", \"Sep\", \"Oct\", \"Nov\", \"Dec\"]\n",
    "sns.heatmap(cd, ax = ax1, annot=True, cmap = 'Blues', alpha = .8, fmt='g')\n",
    "ax1.set_title(\"Customers Bike Trips by Month and Year\", fontsize =14)\n",
    "\n",
    "#plot heatmap of 'Subscriber' ridership by month and year\n",
    "sd = sub_data.pivot_table(index=\"year\",columns=\"month\",values=\"trip_cnt\", aggfunc=\"sum\").fillna(0)\n",
    "sd.columns = [\"Jan\", \"Feb\", \"Mar\", \"Apr\", \"May\", \"Jun\", \"Jul\", \"Aug\", \"Sep\", \"Oct\", \"Nov\", \"Dec\"]\n",
    "sns.heatmap(sd, ax = ax2, annot=True, cmap = 'Blues', alpha = .8, fmt='g')\n",
    "ax2.set_title(\"Subscriber Bike Trips by Month and Year\", fontsize =14)\n",
    "\n",
    "plt.show()"
   ]
  },
  {
   "cell_type": "markdown",
   "id": "6c78269d",
   "metadata": {},
   "source": [
    "**3. How many trips are starting or ending at a train station?**"
   ]
  },
  {
   "cell_type": "markdown",
   "id": "8ba5e070",
   "metadata": {},
   "source": [
    "**Assumptions:** <br>\n",
    "* bike stations near train stations are identified by the bike station name\n",
    "* assume that any bike station name containing the words: \"caltrain\", \"rail\", or \"bart\" are associated with train stations "
   ]
  },
  {
   "cell_type": "code",
   "execution_count": null,
   "id": "b688b7d5",
   "metadata": {},
   "outputs": [],
   "source": [
    "%%bigquery train\n",
    "\n",
    "SELECT \n",
    "CASE WHEN lower(start_station_name) like '%caltrain%' or lower(start_station_name) like '%bart%' or lower(start_station_name) like '%rail%' or\n",
    "lower(end_station_name) like '%caltrain%' or lower(end_station_name) like '%bart%' or lower(end_station_name) like '%rail%' THEN 'Commuter'\n",
    "ELSE 'Other' END AS rider_type, count(distinct trip_id) as trip_cnt   \n",
    "    FROM `bigquery-public-data.san_francisco.bikeshare_trips` \n",
    "    GROUP BY 1\n",
    "    ORDER BY 2 desc "
   ]
  },
  {
   "cell_type": "code",
   "execution_count": null,
   "id": "b8cff606",
   "metadata": {},
   "outputs": [],
   "source": [
    "train"
   ]
  },
  {
   "cell_type": "code",
   "execution_count": null,
   "id": "f152c82d",
   "metadata": {},
   "outputs": [],
   "source": [
    "#calculate % share of ridership by rider type\n",
    "\n",
    "train['percent'] = (train['trip_cnt']/train['trip_cnt'].sum())*100\n",
    "train"
   ]
  },
  {
   "cell_type": "markdown",
   "id": "2ac6e0af",
   "metadata": {},
   "source": [
    "**4. Has the share commuter riders increased or decreased over time?**"
   ]
  },
  {
   "cell_type": "code",
   "execution_count": null,
   "id": "12565621",
   "metadata": {},
   "outputs": [],
   "source": [
    "%%bigquery ridertype\n",
    "\n",
    "SELECT format_datetime('%Y-%m', start_date) as year_month, rider_type,  count(distinct trip_id) as trip_cnt FROM\n",
    "(SELECT CASE WHEN lower(start_station_name) like '%caltrain%' or lower(start_station_name) like '%bart%' or lower(start_station_name) like '%rail%' or\n",
    "lower(end_station_name) like '%caltrain%' or lower(end_station_name) like '%bart%' or lower(end_station_name) like '%rail%' THEN 'Commuter'\n",
    "ELSE 'Other' END AS rider_type, *\n",
    "    FROM `bigquery-public-data.san_francisco.bikeshare_trips` ) x\n",
    "    GROUP BY 1, 2\n",
    "    ORDER BY 1 asc"
   ]
  },
  {
   "cell_type": "code",
   "execution_count": null,
   "id": "416086e4",
   "metadata": {},
   "outputs": [],
   "source": [
    "#plot stacked bar graph \n",
    "\n",
    "rider = pd.DataFrame(ridertype.groupby(['year_month', 'rider_type'])['trip_cnt'].sum()).unstack().fillna(0)\n",
    "percent = rider.div(rider.sum(1)/100, axis=0)\n",
    "ax = percent.plot(kind='bar', stacked=True, title = \"Commuter Ridership by Month of Year\")\n",
    "ax.set_ylabel(\"Percent of Trips (%)\")\n",
    "ax.yaxis.set_major_formatter(mtick.PercentFormatter())\n",
    "ax.set_xlabel(\"Month of Year\")\n",
    "plt.legend([\"Commuter\", \"Other\"], bbox_to_anchor=(1, 1), loc='upper left', fontsize='large')"
   ]
  },
  {
   "cell_type": "markdown",
   "id": "19b1e012",
   "metadata": {},
   "source": [
    "**5. What are the top 5 most popular trips? Does this differ between 'customers','subscribers', and 'commuters'?**"
   ]
  },
  {
   "cell_type": "code",
   "execution_count": null,
   "id": "abf73b9d",
   "metadata": {},
   "outputs": [],
   "source": [
    "#top 5 most popular trips\n",
    "\n",
    "! bq query --use_legacy_sql=FALSE 'SELECT start_station_name, end_station_name, count(*) as trip_freq FROM `bigquery-public-data.san_francisco.bikeshare_trips` GROUP BY start_station_name, end_station_name ORDER BY trip_freq DESC LIMIT 5'"
   ]
  },
  {
   "cell_type": "code",
   "execution_count": null,
   "id": "01dc4780",
   "metadata": {},
   "outputs": [],
   "source": [
    "%%bigquery dest_cust\n",
    "\n",
    "SELECT start_station_name, end_station_name, count(distinct trip_id) as trip_cnt   \n",
    "    FROM `bigquery-public-data.san_francisco.bikeshare_trips` \n",
    "    WHERE subscriber_type = 'Customer'\n",
    "    GROUP BY 1, 2\n",
    "    ORDER BY 3 desc \n",
    "    LIMIT 5"
   ]
  },
  {
   "cell_type": "code",
   "execution_count": null,
   "id": "c130f577",
   "metadata": {},
   "outputs": [],
   "source": [
    "dest_cust"
   ]
  },
  {
   "cell_type": "code",
   "execution_count": null,
   "id": "130eaa62",
   "metadata": {},
   "outputs": [],
   "source": [
    "%%bigquery dest_sub\n",
    "\n",
    "SELECT start_station_name, end_station_name, count(distinct trip_id) as trip_cnt   \n",
    "    FROM `bigquery-public-data.san_francisco.bikeshare_trips` \n",
    "    WHERE subscriber_type = 'Subscriber'\n",
    "    GROUP BY 1, 2\n",
    "    ORDER BY 3 desc \n",
    "    LIMIT 5"
   ]
  },
  {
   "cell_type": "code",
   "execution_count": null,
   "id": "8104c28f",
   "metadata": {},
   "outputs": [],
   "source": [
    "dest_sub"
   ]
  },
  {
   "cell_type": "code",
   "execution_count": null,
   "id": "e89f740b",
   "metadata": {},
   "outputs": [],
   "source": [
    "%%bigquery commuter\n",
    "\n",
    "SELECT start_station_name, end_station_name, count(distinct trip_id) as trip_cnt FROM\n",
    "(SELECT CASE WHEN lower(start_station_name) like '%caltrain%' or lower(start_station_name) like '%bart%' or lower(start_station_name) like '%rail%' or\n",
    "lower(end_station_name) like '%caltrain%' or lower(end_station_name) like '%bart%' or lower(end_station_name) like '%rail%' THEN 'Commuter'\n",
    "ELSE 'Other' END AS rider_type, *\n",
    "    FROM `bigquery-public-data.san_francisco.bikeshare_trips` ) x\n",
    "    WHERE rider_type = 'Commuter'\n",
    "    GROUP BY 1, 2\n",
    "    ORDER BY 3 desc\n",
    "    LIMIT 5"
   ]
  },
  {
   "cell_type": "code",
   "execution_count": null,
   "id": "d3f5073d",
   "metadata": {},
   "outputs": [],
   "source": [
    "commuter"
   ]
  },
  {
   "cell_type": "markdown",
   "id": "ac32b82c",
   "metadata": {},
   "source": [
    "### Analysis"
   ]
  },
  {
   "cell_type": "markdown",
   "id": "2c19615d",
   "metadata": {},
   "source": [
    "Subscribers make up the lion's share of ridership, making up about 80-95% of riders each month with a few exceptions in August and September 2013. That said, low subscribers at the onset makes sense if the ridership program was in its infancy. Both subscribers and customers frequent similar destinations with Harry Bridges Plaza (Ferry Building) and Embarcadero at Sansome reaching the top 5 for as starting stations. \n",
    "\n",
    "Based on the bike trip behavior by month and year, there is seasonality in the bike trip behavior. Both customers and subscribers tend to ride less in the winter months. That said, ridership was higher for subscribers in January 2015. Additional context as to why would be helpful in providing recommendations to increase ridership. For example, was it an unusually warm January that year or was there an ad campaign running that promoted more bike usage? \n",
    "\n",
    "Overall, commuters, as we've defined it above, make up about 41% of bike ridership, and the share of commuters riding bikes has not changed significantly over time after the first couple of months. Like subscribers and customer segments, commuters also tend to frequent Harry Bridges Plaza (Ferry Building). The top stations among the 5 most popular commuter trips are: \n",
    "* SF Caltrain 2 (330 Townsend) \n",
    "* Townsend at 7th \n",
    "* Embarcadero at Folsom \n",
    "* SF Caltrain (Townsend at 4th)\n",
    "* Harry Bridges Plaza\n",
    "\n",
    "**Recommendations:** \n",
    "* To boost ridership in December, it may be helpful to run a promotion as a holiday special (e.g. give the gift of ridership). \n",
    "* A promotion could also be offered in January to capitalize off of new years resolutions (e.g. weight loss, outdoor goals, et cetera). This type of offer may help to convert customers to subscribers. It may also help to stabilize ridership in January. \n",
    "* Summer promotions could highlight the impact of bike ridership on the city's carbon footprint, which may persuade residents and tourists to choose bikes vs. ubers/lyfts. \n",
    "* Given the high traffic of riders at Harry Bridges Plaza, Lyft may want to host a ridership recruitment event nearby. The event could primarily focus on converting customers to subscribers by highlighting the benefits of bike ridership that current subscribers have already experienced. \n",
    "* It might also make sense to offer a promotion to nearby companies to companies in the surrounding areas of the 5 most popular commuter trips. Corporate memberships can be helpful in converting new users and the mobile app could potentially be used to gamify ridership through a point system. Similar to the days of company kickball or softball, employees can potentially compete with neighboring companies for the most miles ridden, fostering company pride and culture."
   ]
  },
  {
   "cell_type": "markdown",
   "id": "897b74e1",
   "metadata": {},
   "source": [
    "### Links to the Data "
   ]
  },
  {
   "cell_type": "markdown",
   "id": "16fedad0",
   "metadata": {},
   "source": [
    "Link to data can be found by navigating to the following:\n",
    "   1. Go to BigQuery\n",
    "   2. Find dataset: bigquery-public-data.san_francisco\n",
    "   3. Use table: bikeshare_trips"
   ]
  },
  {
   "cell_type": "markdown",
   "id": "e045c5b9",
   "metadata": {},
   "source": [
    "### Descriptions and Schema "
   ]
  },
  {
   "cell_type": "markdown",
   "id": "195c3859",
   "metadata": {},
   "source": [
    "This analysis leverages data from the table, 'bikeshare_trips', which has 983,648 rows in the dataset. It is comprised of 11 columns, which include:\n",
    "\n",
    "* 'trip_id' : numeric ID of bike trip\n",
    "* 'duration_sec' : Time of trip in seconds \n",
    "* 'start_date' : Start date with date and time in PST\n",
    "* 'start_station_name' : Station name of start station\n",
    "* 'start_station_id' : Numeric reference for start station\n",
    "* 'end_date' : End date of trip with date and time in PST \n",
    "* 'end_station_name' : Station name of end station\n",
    "* 'end_station_id' : Numeric reference for end station\n",
    "* 'bike_number' : ID of bike used\n",
    "* 'zip_code' : Home zip code of subscriber. Customers can choose to manually enter zip at kiosk, but data is unreliable.\n",
    "* 'subscriber_type' : Subscriber = annual or 30-day member; Customer = 24-hour or 3-day member"
   ]
  },
  {
   "cell_type": "markdown",
   "id": "5a1d945a",
   "metadata": {},
   "source": [
    "### Links to Github "
   ]
  },
  {
   "cell_type": "markdown",
   "id": "77269f06",
   "metadata": {},
   "source": [
    "Link to Github repo can be found [here](https://github.com/mids-w205-martin-mims/project-1-edakavlakoglu/tree/assignment)."
   ]
  },
  {
   "cell_type": "code",
   "execution_count": null,
   "id": "14970cf3",
   "metadata": {},
   "outputs": [],
   "source": []
  }
 ],
 "metadata": {
  "environment": {
   "name": "common-cpu.m78",
   "type": "gcloud",
   "uri": "gcr.io/deeplearning-platform-release/base-cpu:m78"
  },
  "kernelspec": {
   "display_name": "Python 3",
   "language": "python",
   "name": "python3"
  },
  "language_info": {
   "codemirror_mode": {
    "name": "ipython",
    "version": 3
   },
   "file_extension": ".py",
   "mimetype": "text/x-python",
   "name": "python",
   "nbconvert_exporter": "python",
   "pygments_lexer": "ipython3",
   "version": "3.7.10"
  }
 },
 "nbformat": 4,
 "nbformat_minor": 5
}
